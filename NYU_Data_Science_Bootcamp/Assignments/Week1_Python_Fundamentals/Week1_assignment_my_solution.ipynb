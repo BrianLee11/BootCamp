{
 "cells": [
  {
   "cell_type": "markdown",
   "id": "a231634a",
   "metadata": {},
   "source": [
    "## Data Science Bootcamp\n",
    "### Week 1: basic Python\n",
    "\n",
    "- Questions 1 - 7: Based on the email with title \"Data Science Bootcamp Week 1 Follow Up\" (receive on Feb 28, 2025, 4:59 PM)\n",
    "- Additional Challenge: based on the gitHub ppt https://github.com/rohnnie/NYU-Data-Science-Bootcamp-Spring-2025/blob/main/Week-1/DataScienceBootcamp_Week1.ipynb"
   ]
  },
  {
   "cell_type": "markdown",
   "id": "60e2fbef-239e-475c-98b4-b6eda59b940f",
   "metadata": {},
   "source": [
    "## Question 1. Display Fibonacci Series up to 10 terms\n",
    "\n",
    "Brainstorming"
   ]
  },
  {
   "cell_type": "code",
   "execution_count": null,
   "id": "7c7359e1-45a3-4934-80ec-1d2398080c97",
   "metadata": {
    "jupyter": {
     "is_executing": true
    }
   },
   "outputs": [],
   "source": [
    "# Question 1. Display Fibonacci Series up to 10 terms"
   ]
  },
  {
   "cell_type": "code",
   "execution_count": 5,
   "id": "6eb5891a-c0ed-4110-987e-19f09c552783",
   "metadata": {},
   "outputs": [],
   "source": [
    "# initialize the Fibonacci sequence\n",
    "fibonacci_sequence_array = [1,1]\n",
    "n = 10"
   ]
  },
  {
   "cell_type": "code",
   "execution_count": 32,
   "id": "7d67fc01-4c35-4f92-b250-76211c4a982e",
   "metadata": {},
   "outputs": [],
   "source": [
    "# calculate the nth term for (n-2) number\n",
    "for _ in range(n-2):\n",
    "    append_number = fibonacci_sequence_array[-2] + fibonacci_sequence_array[-1]\n",
    "    fibonacci_sequence_array.append(append_number)"
   ]
  },
  {
   "cell_type": "code",
   "execution_count": 8,
   "id": "594f99af-eed4-4fa8-9579-80848caae245",
   "metadata": {},
   "outputs": [
    {
     "name": "stdout",
     "output_type": "stream",
     "text": [
      "[1, 1, 2, 3, 5, 8, 13, 21, 34, 55]\n"
     ]
    }
   ],
   "source": [
    "# Display Fibonacci Series up to 10 terms\n",
    "print(fibonacci_sequence_array)"
   ]
  },
  {
   "cell_type": "code",
   "execution_count": 9,
   "id": "320b9331-b8f0-4170-8700-2249f9b2e64e",
   "metadata": {},
   "outputs": [
    {
     "name": "stdout",
     "output_type": "stream",
     "text": [
      "10\n"
     ]
    }
   ],
   "source": [
    "# Check the number of terms in the Fibonacci Series array\n",
    "print(len(fibonacci_sequence_array))"
   ]
  },
  {
   "cell_type": "markdown",
   "id": "13dd07cb-e78f-42cb-8552-de05a1ae5809",
   "metadata": {},
   "source": [
    "### Implementation of answer 1: function"
   ]
  },
  {
   "cell_type": "code",
   "execution_count": 57,
   "id": "fe1cd1c2-fa5e-410f-9774-46fd6888bf37",
   "metadata": {},
   "outputs": [],
   "source": [
    "# make it as  function\n",
    "def fibonacci_sequence_display(n):\n",
    "    # initialize the first two terms\n",
    "    fibonacci_sequence_array = [1,1]\n",
    "\n",
    "    # calculate the nth term for (n-2) number\n",
    "    for _ in range(n-2):\n",
    "        append_number = fibonacci_sequence_array[-2] + fibonacci_sequence_array[-1]\n",
    "        fibonacci_sequence_array.append(append_number)\n",
    "\n",
    "    return (f\"{n} number of terms in the fibonacci sequence is: {fibonacci_sequence_array}\")        "
   ]
  },
  {
   "cell_type": "markdown",
   "id": "5b61d63b-64ff-4d6d-9f8a-ffdec2fdcbb0",
   "metadata": {},
   "source": [
    "### Answer 1: Display Fibonacci Sequence up to 10 terms"
   ]
  },
  {
   "cell_type": "code",
   "execution_count": 58,
   "id": "3e778855-c877-44f3-ac25-b18d97b18e0e",
   "metadata": {},
   "outputs": [
    {
     "name": "stdout",
     "output_type": "stream",
     "text": [
      "10 number of terms in the fibonacci sequence is: [1, 1, 2, 3, 5, 8, 13, 21, 34, 55]\n"
     ]
    }
   ],
   "source": [
    "print(fibonacci_sequence_display(10))"
   ]
  },
  {
   "cell_type": "markdown",
   "id": "f4e97b4f-44bd-420c-8b1c-7c8505c352e1",
   "metadata": {},
   "source": [
    "## Question 2. Display numbers at the odd indices of a list.\n",
    "\n",
    "Brainstorming"
   ]
  },
  {
   "cell_type": "code",
   "execution_count": 10,
   "id": "3b13fa8f-7e90-4549-b7fa-14726298a328",
   "metadata": {},
   "outputs": [],
   "source": [
    "# Question 2. Display numbers at the odd indices of a list"
   ]
  },
  {
   "cell_type": "code",
   "execution_count": 59,
   "id": "1c30dc2c-277e-4069-ad88-fadb397c5ff4",
   "metadata": {},
   "outputs": [
    {
     "name": "stdout",
     "output_type": "stream",
     "text": [
      "3\n"
     ]
    }
   ],
   "source": [
    "a_list = [4, 3, -5, 7, 9, -12, 6]\n",
    "odd_index_length = len(a_list) // 2\n",
    "print(odd_index_length)"
   ]
  },
  {
   "cell_type": "code",
   "execution_count": 60,
   "id": "a588f23b-d9b7-4788-998c-f32803b5f557",
   "metadata": {},
   "outputs": [
    {
     "name": "stdout",
     "output_type": "stream",
     "text": [
      "Index: 1, Value: 3\n",
      "Index: 3, Value: 7\n",
      "Index: 5, Value: -12\n"
     ]
    }
   ],
   "source": [
    "for index in range(odd_index_length):\n",
    "    print(f\"Index: {index*2 + 1}, Value: {a_list[index*2 +1]}\")"
   ]
  },
  {
   "cell_type": "markdown",
   "id": "52f032c3-8e85-4d57-be7f-5e9952425345",
   "metadata": {},
   "source": [
    "## Implementation of answer 2: a function"
   ]
  },
  {
   "cell_type": "code",
   "execution_count": 75,
   "id": "f39e7fdd-076e-4e14-b021-ef0cc0cb98ee",
   "metadata": {},
   "outputs": [],
   "source": [
    "def displayNumbersOddIndices(a_list):\n",
    "    odd_index_length = len(a_list) // 2\n",
    "    for index in range(odd_index_length):\n",
    "        print(f\"Index: {index * 2 +1}, Value: {a_list[index * 2 + 1]}\")"
   ]
  },
  {
   "cell_type": "markdown",
   "id": "5f7be5e4-ec3c-4139-8c37-c28e32c78c9d",
   "metadata": {},
   "source": [
    "## Answer 2: display numbers at the odd indices of a list"
   ]
  },
  {
   "cell_type": "code",
   "execution_count": 77,
   "id": "d3ec23a8-27dd-443f-afc0-5dce845840b4",
   "metadata": {},
   "outputs": [
    {
     "name": "stdout",
     "output_type": "stream",
     "text": [
      "Index: 1, Value: 3\n",
      "Index: 3, Value: 7\n",
      "Index: 5, Value: -12\n"
     ]
    }
   ],
   "source": [
    "a_list = [4, 3, -5, 7, 9, -12, 6]\n",
    "displayNumbersOddIndices(a_list)"
   ]
  },
  {
   "cell_type": "markdown",
   "id": "def67aa2-067d-4cd4-85a5-fd1520b0dbad",
   "metadata": {},
   "source": [
    "## Question 3: count the number of different words in a given text\n",
    "\n",
    "Brainstorming"
   ]
  },
  {
   "cell_type": "code",
   "execution_count": 68,
   "id": "845333d7-8a6d-4fc7-9957-d0117cb75133",
   "metadata": {},
   "outputs": [],
   "source": [
    "example_string = \"\"\"I have provided this text to provide tips on creating interesting paragraphs.\n",
    "\n",
    "First, start with a clear topic sentence that introduces the main idea.\n",
    "\n",
    "Then, support the topic sentence with specific details, examples, and evidence.\n",
    "\n",
    "Vary the sentence length and structure to keep the reader engaged.\n",
    "\n",
    "Finally, end with a strong concluding sentence that summarizes the main points.\n",
    "\n",
    "Remember, practice makes perfect!\"\"\"\n"
   ]
  },
  {
   "cell_type": "code",
   "execution_count": 69,
   "id": "9a586605-ad09-4521-a64e-ea70e217765e",
   "metadata": {},
   "outputs": [
    {
     "data": {
      "text/plain": [
       "['I',\n",
       " 'have',\n",
       " 'provided',\n",
       " 'this',\n",
       " 'text',\n",
       " 'to',\n",
       " 'provide',\n",
       " 'tips',\n",
       " 'on',\n",
       " 'creating',\n",
       " 'interesting',\n",
       " 'paragraphs.',\n",
       " 'First,',\n",
       " 'start',\n",
       " 'with',\n",
       " 'a',\n",
       " 'clear',\n",
       " 'topic',\n",
       " 'sentence',\n",
       " 'that',\n",
       " 'introduces',\n",
       " 'the',\n",
       " 'main',\n",
       " 'idea.',\n",
       " 'Then,',\n",
       " 'support',\n",
       " 'the',\n",
       " 'topic',\n",
       " 'sentence',\n",
       " 'with',\n",
       " 'specific',\n",
       " 'details,',\n",
       " 'examples,',\n",
       " 'and',\n",
       " 'evidence.',\n",
       " 'Vary',\n",
       " 'the',\n",
       " 'sentence',\n",
       " 'length',\n",
       " 'and',\n",
       " 'structure',\n",
       " 'to',\n",
       " 'keep',\n",
       " 'the',\n",
       " 'reader',\n",
       " 'engaged.',\n",
       " 'Finally,',\n",
       " 'end',\n",
       " 'with',\n",
       " 'a',\n",
       " 'strong',\n",
       " 'concluding',\n",
       " 'sentence',\n",
       " 'that',\n",
       " 'summarizes',\n",
       " 'the',\n",
       " 'main',\n",
       " 'points.',\n",
       " 'Remember,',\n",
       " 'practice',\n",
       " 'makes',\n",
       " 'perfect!']"
      ]
     },
     "execution_count": 69,
     "metadata": {},
     "output_type": "execute_result"
    }
   ],
   "source": [
    "example_string.split()"
   ]
  },
  {
   "cell_type": "code",
   "execution_count": 70,
   "id": "bd3e51e8-5051-4b11-b307-71fbc8eb2b9b",
   "metadata": {},
   "outputs": [
    {
     "name": "stdout",
     "output_type": "stream",
     "text": [
      "62\n"
     ]
    }
   ],
   "source": [
    "print(len(example_string.split()))"
   ]
  },
  {
   "cell_type": "markdown",
   "id": "587cf3b4-4d33-42ee-b950-e622b052a027",
   "metadata": {},
   "source": [
    "## Implementation of answer 3: function"
   ]
  },
  {
   "cell_type": "code",
   "execution_count": 79,
   "id": "8b41e7f8-4312-4d4f-b3af-eac1664429d6",
   "metadata": {},
   "outputs": [],
   "source": [
    "def countNumDiffWords(a_string):\n",
    "    split_string = a_string.split()\n",
    "    count_diff_words = len(split_string)\n",
    "\n",
    "    return count_diff_words"
   ]
  },
  {
   "cell_type": "markdown",
   "id": "1ae41813-0f4a-4842-9bab-c779bd411bb3",
   "metadata": {},
   "source": [
    "## Answer 3: count the number of different words in a given text"
   ]
  },
  {
   "cell_type": "code",
   "execution_count": 80,
   "id": "fd9e1f80-753c-40bc-b7fc-b7d636d1f200",
   "metadata": {},
   "outputs": [
    {
     "name": "stdout",
     "output_type": "stream",
     "text": [
      "62\n"
     ]
    }
   ],
   "source": [
    "# test\n",
    "print(countNumDiffWords(example_string))"
   ]
  },
  {
   "cell_type": "markdown",
   "id": "e4a94613-17ed-48d7-bdcb-bda75952ce4a",
   "metadata": {},
   "source": [
    "## Question 4: return the number of vowels in the word"
   ]
  },
  {
   "cell_type": "code",
   "execution_count": 81,
   "id": "8819f355-f92e-40d7-9d5c-08d428c27588",
   "metadata": {},
   "outputs": [],
   "source": [
    "# 4.⁠ ⁠Write a function count_vowels(word) that takes a word as an argument and returns the number of vowels in the word\n",
    "# brainstroming"
   ]
  },
  {
   "cell_type": "code",
   "execution_count": 2,
   "id": "f2d2733c-d9ae-4e5d-8716-9281a8076e0a",
   "metadata": {},
   "outputs": [
    {
     "name": "stdout",
     "output_type": "stream",
     "text": [
      "2\n"
     ]
    }
   ],
   "source": [
    "list_vowels = ['a', 'e', 'i', 'o', 'u']\n",
    "word = \"HewLett\"\n",
    "vowel_count = 0\n",
    "\n",
    "for character in word:\n",
    "    if character in list_vowels or character.lower() in list_vowels:\n",
    "        vowel_count += 1\n",
    "\n",
    "print(vowel_count)"
   ]
  },
  {
   "cell_type": "markdown",
   "id": "51046594-f37b-42ef-989b-9a5e0a749b42",
   "metadata": {},
   "source": [
    "## Implementation of answer 4: function"
   ]
  },
  {
   "cell_type": "code",
   "execution_count": 3,
   "id": "d8b497cd-ff74-43ed-8559-2b2f37f3b6be",
   "metadata": {},
   "outputs": [],
   "source": [
    "def countNumVowels(word):\n",
    "    list_vowels = ['a', 'e', 'i', 'o', 'u']\n",
    "    vowel_count = 0\n",
    "\n",
    "    for character in word:\n",
    "        if character in list_vowels or character.lower() in list_vowels:\n",
    "            vowel_count += 1\n",
    "\n",
    "    return vowel_count"
   ]
  },
  {
   "cell_type": "markdown",
   "id": "7fe1f51c-721d-41f2-b0ff-321bffe85005",
   "metadata": {},
   "source": [
    "## Answer 4: count the number of vowels in a given word"
   ]
  },
  {
   "cell_type": "code",
   "execution_count": 5,
   "id": "6d819489-c6b8-4687-91f5-f2d5998d92c9",
   "metadata": {},
   "outputs": [
    {
     "name": "stdout",
     "output_type": "stream",
     "text": [
      "4\n"
     ]
    }
   ],
   "source": [
    "word = \"WoOdMerE\"\n",
    "print(countNumVowels(word))"
   ]
  },
  {
   "cell_type": "markdown",
   "id": "5df7c4aa-a6df-472f-ab8b-ae87bdbeb4d7",
   "metadata": {},
   "source": [
    "## Question 5.⁠ ⁠Iterate through the following list of animals and print each one in all caps."
   ]
  },
  {
   "cell_type": "code",
   "execution_count": 6,
   "id": "ecc93509-66c7-4c49-885f-5ca436d1abeb",
   "metadata": {},
   "outputs": [],
   "source": [
    "animals=['tiger', 'elephant', 'monkey', 'zebra', 'panther']"
   ]
  },
  {
   "cell_type": "markdown",
   "id": "7e0baab1-d761-4783-b0a2-b399f3190f80",
   "metadata": {},
   "source": [
    "## Answer 5: iterate a list and print each one in all capital letters"
   ]
  },
  {
   "cell_type": "code",
   "execution_count": 7,
   "id": "7ebe3365-c289-4239-8534-b70c570d49f9",
   "metadata": {},
   "outputs": [],
   "source": [
    "def animalDisplay(list_animals):\n",
    "    for animal in list_animals:\n",
    "        print(animal.upper())"
   ]
  },
  {
   "cell_type": "code",
   "execution_count": 8,
   "id": "480f9508-7142-40b9-8775-03aef382f880",
   "metadata": {},
   "outputs": [
    {
     "name": "stdout",
     "output_type": "stream",
     "text": [
      "TIGER\n",
      "ELEPHANT\n",
      "MONKEY\n",
      "ZEBRA\n",
      "PANTHER\n"
     ]
    }
   ],
   "source": [
    "animalDisplay(animals)"
   ]
  },
  {
   "cell_type": "markdown",
   "id": "522d4e40-c0b8-4daf-825c-2447c7039772",
   "metadata": {},
   "source": [
    "## Question 6.⁠ ⁠Write a program that iterates from 1 to 20, printing each number and whether it's odd or even."
   ]
  },
  {
   "cell_type": "markdown",
   "id": "4301dc03-38d9-4c16-8ce7-77eb41a3f80d",
   "metadata": {},
   "source": [
    "## Answer 6"
   ]
  },
  {
   "cell_type": "code",
   "execution_count": 34,
   "id": "1976e626-5a83-4552-9056-989e5967eaa2",
   "metadata": {},
   "outputs": [],
   "source": [
    "def oddOrEven(start_number, end_number):\n",
    "    for number in range(start_number, end_number + 1):\n",
    "        if number % 2 == 0:\n",
    "            print(f\"number {number} is even\")\n",
    "        elif number % 2 == 1:\n",
    "            print(f\"number {number} is odd\")"
   ]
  },
  {
   "cell_type": "code",
   "execution_count": 37,
   "id": "80ce595d-0556-4433-be28-e37ad39614d8",
   "metadata": {},
   "outputs": [
    {
     "name": "stdout",
     "output_type": "stream",
     "text": [
      "number 1 is odd\n",
      "number 2 is even\n",
      "number 3 is odd\n",
      "number 4 is even\n",
      "number 5 is odd\n",
      "number 6 is even\n",
      "number 7 is odd\n",
      "number 8 is even\n",
      "number 9 is odd\n",
      "number 10 is even\n",
      "number 11 is odd\n",
      "number 12 is even\n",
      "number 13 is odd\n",
      "number 14 is even\n",
      "number 15 is odd\n",
      "number 16 is even\n",
      "number 17 is odd\n",
      "number 18 is even\n",
      "number 19 is odd\n",
      "number 20 is even\n"
     ]
    }
   ],
   "source": [
    "# testing\n",
    "oddOrEven(1, 20)"
   ]
  },
  {
   "cell_type": "markdown",
   "id": "0b687a8b-e0b9-42aa-bb2f-e8c04b8c26a4",
   "metadata": {},
   "source": [
    "## Question 7.⁠ ⁠Write a function sum_of_integers(a, b) that takes two integers as input from the user and returns their sum."
   ]
  },
  {
   "cell_type": "code",
   "execution_count": 36,
   "id": "eee53ea1-3302-4b1e-a0f6-9792272e1bb8",
   "metadata": {},
   "outputs": [
    {
     "name": "stdin",
     "output_type": "stream",
     "text": [
      " 3\n"
     ]
    }
   ],
   "source": [
    "# brainstorming\n",
    "user_input_a = input()"
   ]
  },
  {
   "cell_type": "markdown",
   "id": "6b8046a7-6682-47dd-adda-f660f440210b",
   "metadata": {},
   "source": [
    "## Answer 7"
   ]
  },
  {
   "cell_type": "code",
   "execution_count": 3,
   "id": "37b87f51-463d-4d92-b351-4bc7877ef2c4",
   "metadata": {
    "jupyter": {
     "is_executing": true
    }
   },
   "outputs": [],
   "source": [
    "def sum_of_integers():\n",
    "    user_input_a = input(\"Input first integer: \")  # Await input for Pyodide\n",
    "    user_input_b = input(\"Input second integer: \")\n",
    "\n",
    "    integer_a = int(user_input_a)  # Convert to integer\n",
    "    integer_b = int(user_input_b)\n",
    "\n",
    "    return integer_a + integer_b  # Return sum"
   ]
  },
  {
   "cell_type": "code",
   "execution_count": 5,
   "id": "761a43ad-094a-46bf-a846-798cf50bcaf3",
   "metadata": {},
   "outputs": [
    {
     "name": "stdout",
     "output_type": "stream",
     "text": [
      "Input first integer: 3\n",
      "Input second integer: 4\n",
      "The sum of two integers as inputs from the user: 7\n"
     ]
    }
   ],
   "source": [
    "# testing\n",
    "print(f\"The sum of two integers as inputs from the user: {sum_of_integers()}\")"
   ]
  },
  {
   "cell_type": "markdown",
   "id": "b29d1944",
   "metadata": {},
   "source": [
    "## Additional Challenge - Books data challenge"
   ]
  },
  {
   "cell_type": "code",
   "execution_count": 25,
   "id": "708e569f",
   "metadata": {},
   "outputs": [],
   "source": [
    "books = [\n",
    "    {\n",
    "        \"title\": \"The Great Gatsby\",\n",
    "        \"author\": \"F. Scott Fitzgerald\",\n",
    "        \"genre\": \"Fiction\",\n",
    "        \"rating\": 4.2\n",
    "    },\n",
    "    {\n",
    "        \"title\": \"To Kill a Mockingbird\",\n",
    "        \"author\": \"Harper Lee\",\n",
    "        \"genre\": \"Classic\",\n",
    "        \"rating\": 4.5\n",
    "    },\n",
    "    {\n",
    "        \"title\": \"1984\",\n",
    "        \"author\": \"George Orwell\",\n",
    "        \"genre\": \"Dystopian\",\n",
    "        \"rating\": 4.8\n",
    "    },\n",
    "    {\n",
    "        \"title\": \"Pride and Prejudice\",\n",
    "        \"author\": \"Jane Austen\",\n",
    "        \"genre\": \"Romance\",\n",
    "        \"rating\": 4.7\n",
    "    },\n",
    "    {\n",
    "        \"title\": \"Harry Potter and the Sorcerer's Stone\",\n",
    "        \"author\": \"J.K. Rowling\",\n",
    "        \"genre\": \"Fantasy\",\n",
    "        \"rating\": 4.9\n",
    "    },\n",
    "    {\n",
    "        \"title\": \"The Catcher in the Rye\",\n",
    "        \"author\": \"J.D. Salinger\",\n",
    "        \"genre\": \"Coming-of-age\",\n",
    "        \"rating\": 4.1\n",
    "    }\n",
    "]"
   ]
  },
  {
   "cell_type": "markdown",
   "id": "ed1736f5",
   "metadata": {},
   "source": [
    "**1. Checking Book Ratings**\n",
    "\n",
    "Write a function check_rating(book) that takes a book dictionary and returns True if the rating is greater than 4.5, and False otherwise. Additionally, modify the function to return 'low' if the rating is less than or equal to 4.0, 'medium' if it's greater than 4.0 but less than or equal to 4.5, and 'high' if it's greater than 4.5.\n",
    "\n",
    "**2. Average Rating by Genre**\n",
    "\n",
    "Write a function average_rating_by_genre(books, genre) that accepts the list of books and a genre, and returns the average rating for that genre. If the genre does not exist in the list, return an appropriate message.\n",
    "\n",
    "**3. Books by Author**\n",
    "\n",
    "Write a function books_by_author(books, author) that accepts the book list and an author's name, and returns a list of all the books written by that author. If the author does not exist, raise a custom error."
   ]
  },
  {
   "cell_type": "markdown",
   "id": "249decbb",
   "metadata": {},
   "source": [
    "Implement by one one.\n",
    "\n",
    "**1. Checking Book Ratings**\n",
    "\n",
    "Write a function check_rating(book) that takes a book dictionary and returns True if the rating is greater than 4.5, and False otherwise. Additionally, modify the function to return 'low' if the rating is less than or equal to 4.0, 'medium' if it's greater than 4.0 but less than or equal to 4.5, and 'high' if it's greater than 4.5."
   ]
  },
  {
   "cell_type": "code",
   "execution_count": 14,
   "id": "8819be88",
   "metadata": {},
   "outputs": [],
   "source": [
    "example_book = {\n",
    "        \"title\": \"The Great Gatsby\",\n",
    "        \"author\": \"F. Scott Fitzgerald\",\n",
    "        \"genre\": \"Fiction\",\n",
    "        \"rating\": 4.2\n",
    "}"
   ]
  },
  {
   "cell_type": "code",
   "execution_count": 15,
   "id": "5f7cfbb3",
   "metadata": {},
   "outputs": [],
   "source": [
    "# returns true if the rating > 4.5, false otherwise\n",
    "def check_rating(book):\n",
    "    if book[\"rating\"] > 4.5:\n",
    "        return True\n",
    "    else:\n",
    "        return False"
   ]
  },
  {
   "cell_type": "code",
   "execution_count": 16,
   "id": "e205c40f",
   "metadata": {},
   "outputs": [
    {
     "name": "stdout",
     "output_type": "stream",
     "text": [
      "False\n"
     ]
    }
   ],
   "source": [
    "print(check_rating(example_book))"
   ]
  },
  {
   "cell_type": "code",
   "execution_count": 17,
   "id": "289a27ed",
   "metadata": {},
   "outputs": [],
   "source": [
    "def check_rating(book):\n",
    "    if book[\"rating\"] > 4.5:\n",
    "        return 'high'\n",
    "    elif 4 < book[\"rating\"] <= 4.5:\n",
    "        return 'medium'\n",
    "    else:\n",
    "        return 'low'"
   ]
  },
  {
   "cell_type": "code",
   "execution_count": 18,
   "id": "bafe7fff",
   "metadata": {},
   "outputs": [
    {
     "name": "stdout",
     "output_type": "stream",
     "text": [
      "medium\n"
     ]
    }
   ],
   "source": [
    "print(check_rating(example_book))"
   ]
  },
  {
   "cell_type": "markdown",
   "id": "7905a7a3",
   "metadata": {},
   "source": [
    "**2. Average Rating by Genre**\n",
    "\n",
    "Write a function average_rating_by_genre(books, genre) that accepts the list of books and a genre, and returns the average rating for that genre. If the genre does not exist in the list, return an appropriate message."
   ]
  },
  {
   "cell_type": "code",
   "execution_count": 26,
   "id": "c1fc4610",
   "metadata": {},
   "outputs": [],
   "source": [
    "def average_rating_by_genre(books, genre):\n",
    "    rating_accumulation = 0\n",
    "    genre_count = 0\n",
    "    \n",
    "    for book in books:\n",
    "        if book[\"genre\"] == genre:\n",
    "            rating_accumulation += book[\"rating\"]\n",
    "            genre_count += 1\n",
    "    \n",
    "    if genre_count == 0:\n",
    "        return \"There is no such genre in these books\"\n",
    "    else:\n",
    "        return rating_accumulation / genre_count"
   ]
  },
  {
   "cell_type": "code",
   "execution_count": 27,
   "id": "89186fd6",
   "metadata": {},
   "outputs": [
    {
     "name": "stdout",
     "output_type": "stream",
     "text": [
      "4.5\n"
     ]
    }
   ],
   "source": [
    "print(average_rating_by_genre(books, \"Classic\"))"
   ]
  },
  {
   "cell_type": "code",
   "execution_count": 37,
   "id": "fbba6486",
   "metadata": {},
   "outputs": [],
   "source": [
    "# testing\n",
    "new_books = [\n",
    "    {\n",
    "        \"title\": \"The Great Gatsby\",\n",
    "        \"author\": \"F. Scott Fitzgerald\",\n",
    "        \"genre\": \"Fiction\",\n",
    "        \"rating\": 4.2\n",
    "    },\n",
    "    {\n",
    "        \"title\": \"To Kill a Mockingbird\",\n",
    "        \"author\": \"Harper Lee\",\n",
    "        \"genre\": \"Classic\",\n",
    "        \"rating\": 4.3\n",
    "    },\n",
    "    {\n",
    "        \"title\": \"To Raise a Mockingbird\",\n",
    "        \"author\": \"Harper Lee\",\n",
    "        \"genre\": \"Classic\",\n",
    "        \"rating\": 4.5\n",
    "    },\n",
    "    {\n",
    "        \"title\": \"To Save a Mockingbird\",\n",
    "        \"author\": \"Harper Lee\",\n",
    "        \"genre\": \"Classic\",\n",
    "        \"rating\": 5.2\n",
    "    },\n",
    "    {\n",
    "        \"title\": \"1984\",\n",
    "        \"author\": \"George Orwell\",\n",
    "        \"genre\": \"Dystopian\",\n",
    "        \"rating\": 4.8\n",
    "    },\n",
    "    {\n",
    "        \"title\": \"Pride and Prejudice\",\n",
    "        \"author\": \"Jane Austen\",\n",
    "        \"genre\": \"Romance\",\n",
    "        \"rating\": 4.7\n",
    "    },\n",
    "    {\n",
    "        \"title\": \"Harry Potter and the Sorcerer's Stone\",\n",
    "        \"author\": \"J.K. Rowling\",\n",
    "        \"genre\": \"Fantasy\",\n",
    "        \"rating\": 4.9\n",
    "    },\n",
    "    {\n",
    "        \"title\": \"The Catcher in the Rye\",\n",
    "        \"author\": \"J.D. Salinger\",\n",
    "        \"genre\": \"Coming-of-age\",\n",
    "        \"rating\": 4.1\n",
    "    }\n",
    "]"
   ]
  },
  {
   "cell_type": "code",
   "execution_count": 30,
   "id": "a5a417f8",
   "metadata": {},
   "outputs": [
    {
     "name": "stdout",
     "output_type": "stream",
     "text": [
      "4.666666666666667\n"
     ]
    }
   ],
   "source": [
    "print(average_rating_by_genre(new_books, \"Classic\"))"
   ]
  },
  {
   "cell_type": "code",
   "execution_count": 31,
   "id": "5c7a8137",
   "metadata": {},
   "outputs": [
    {
     "name": "stdout",
     "output_type": "stream",
     "text": [
      "There is no such genre in these books\n"
     ]
    }
   ],
   "source": [
    "print(average_rating_by_genre(new_books, \"Religion\"))"
   ]
  },
  {
   "cell_type": "markdown",
   "id": "e089ad73",
   "metadata": {},
   "source": [
    "**3. Books by Author**\n",
    "\n",
    "Write a function books_by_author(books, author) that accepts the book list and an author's name, and returns a list of all the books written by that author. If the author does not exist, raise a custom error."
   ]
  },
  {
   "cell_type": "code",
   "execution_count": 51,
   "id": "e6390dac",
   "metadata": {},
   "outputs": [],
   "source": [
    "def books_by_author(books, author):\n",
    "    book_list = []\n",
    "    \n",
    "    for book in books:\n",
    "        if book[\"author\"] == author:\n",
    "            book_list.append(book[\"title\"])\n",
    "    \n",
    "    if book_list == []:\n",
    "        raise ValueError(f\"There is no book written by this {author}\")\n",
    "    else:\n",
    "        return book_list    "
   ]
  },
  {
   "cell_type": "code",
   "execution_count": 52,
   "id": "a30f0494",
   "metadata": {},
   "outputs": [
    {
     "name": "stdout",
     "output_type": "stream",
     "text": [
      "['To Kill a Mockingbird', 'To Raise a Mockingbird', 'To Save a Mockingbird']\n"
     ]
    }
   ],
   "source": [
    "# testing\n",
    "print(books_by_author(new_books, \"Harper Lee\"))"
   ]
  },
  {
   "cell_type": "code",
   "execution_count": 53,
   "id": "2db28c34",
   "metadata": {},
   "outputs": [
    {
     "ename": "ValueError",
     "evalue": "There is no book written by this Han Gang",
     "output_type": "error",
     "traceback": [
      "\u001b[1;31m---------------------------------------------------------------------------\u001b[0m",
      "\u001b[1;31mValueError\u001b[0m                                Traceback (most recent call last)",
      "Cell \u001b[1;32mIn[53], line 2\u001b[0m\n\u001b[0;32m      1\u001b[0m \u001b[38;5;66;03m# testing\u001b[39;00m\n\u001b[1;32m----> 2\u001b[0m \u001b[38;5;28mprint\u001b[39m(books_by_author(new_books, \u001b[38;5;124m\"\u001b[39m\u001b[38;5;124mHan Gang\u001b[39m\u001b[38;5;124m\"\u001b[39m))\n",
      "Cell \u001b[1;32mIn[51], line 9\u001b[0m, in \u001b[0;36mbooks_by_author\u001b[1;34m(books, author)\u001b[0m\n\u001b[0;32m      6\u001b[0m         book_list\u001b[38;5;241m.\u001b[39mappend(book[\u001b[38;5;124m\"\u001b[39m\u001b[38;5;124mtitle\u001b[39m\u001b[38;5;124m\"\u001b[39m])\n\u001b[0;32m      8\u001b[0m \u001b[38;5;28;01mif\u001b[39;00m book_list \u001b[38;5;241m==\u001b[39m []:\n\u001b[1;32m----> 9\u001b[0m     \u001b[38;5;28;01mraise\u001b[39;00m \u001b[38;5;167;01mValueError\u001b[39;00m(\u001b[38;5;124mf\u001b[39m\u001b[38;5;124m\"\u001b[39m\u001b[38;5;124mThere is no book written by this \u001b[39m\u001b[38;5;132;01m{\u001b[39;00mauthor\u001b[38;5;132;01m}\u001b[39;00m\u001b[38;5;124m\"\u001b[39m)\n\u001b[0;32m     10\u001b[0m \u001b[38;5;28;01melse\u001b[39;00m:\n\u001b[0;32m     11\u001b[0m     \u001b[38;5;28;01mreturn\u001b[39;00m book_list\n",
      "\u001b[1;31mValueError\u001b[0m: There is no book written by this Han Gang"
     ]
    }
   ],
   "source": [
    "# testing\n",
    "print(books_by_author(new_books, \"Han Gang\"))"
   ]
  }
 ],
 "metadata": {
  "kernelspec": {
   "display_name": "Python 3 (ipykernel)",
   "language": "python",
   "name": "python3"
  },
  "language_info": {
   "codemirror_mode": {
    "name": "ipython",
    "version": 3
   },
   "file_extension": ".py",
   "mimetype": "text/x-python",
   "name": "python",
   "nbconvert_exporter": "python",
   "pygments_lexer": "ipython3",
   "version": "3.11.5"
  }
 },
 "nbformat": 4,
 "nbformat_minor": 5
}
