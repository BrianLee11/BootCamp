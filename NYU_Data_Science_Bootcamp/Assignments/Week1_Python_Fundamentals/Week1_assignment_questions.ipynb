{
 "cells": [
  {
   "cell_type": "markdown",
   "id": "a50f21b8-33ab-4eb5-be27-fdf0804294ac",
   "metadata": {},
   "source": [
    "## Data Science Bootcamp\n",
    "### Week 1: basic Python\n",
    "\n",
    "- Questions 1 - 7: Based on the email with title \"Data Science Bootcamp Week 1 Follow Up\" (receive on Feb 28, 2025, 4:59 PM)\n",
    "- Additional Challenge: based on the gitHub ppt https://github.com/rohnnie/NYU-Data-Science-Bootcamp-Spring-2025/blob/main/Week-1/DataScienceBootcamp_Week1.ipynb"
   ]
  },
  {
   "cell_type": "markdown",
   "id": "3e41c57e-b4a3-4619-9ccf-65613eae1844",
   "metadata": {},
   "source": [
    "1.⁠ ⁠Display Fibonacci Series upto 10 terms\n",
    "\n",
    "2.⁠ ⁠Display numbers at the odd indices of a list\n",
    "\n",
    "3.⁠ ⁠⁠string = \"\"\"\n",
    "\n",
    "I have provided this text to provide tips on creating interesting paragraphs.\n",
    "\n",
    "First, start with a clear topic sentence that introduces the main idea.\n",
    "\n",
    "Then, support the topic sentence with specific details, examples, and evidence.\n",
    "\n",
    "Vary the sentence length and structure to keep the reader engaged.\n",
    "\n",
    "Finally, end with a strong concluding sentence that summarizes the main points.\n",
    "\n",
    "Remember, practice makes perfect!\n",
    "\n",
    "\"\"\"\n",
    "\n",
    "#Your task is to count the number of different words in this text\n",
    "\n",
    "4.⁠ ⁠Write a function count_vowels(word) that takes a word as an argument and returns the number of vowels in the word\n",
    "\n",
    "5.⁠ ⁠Iterate through the following list of animals and print each one in all caps.\n",
    "\n",
    "animals=['tiger', 'elephant', 'monkey', 'zebra', 'panther']\n",
    "\n",
    "6.⁠ ⁠Write a program that iterates from 1 to 20, printing each number and whether it's odd or even.\n",
    "\n",
    "7.⁠ ⁠Write a function sum_of_integers(a, b) that takes two integers as input from the user and returns their sum.\n",
    "\n",
    "Additional optional  problems are in the jupyter notebook uploaded on github"
   ]
  },
  {
   "cell_type": "markdown",
   "id": "0f8b7418",
   "metadata": {},
   "source": [
    "## Additional Challenge - Books data challenge"
   ]
  },
  {
   "cell_type": "code",
   "execution_count": 1,
   "id": "07e799d0",
   "metadata": {},
   "outputs": [],
   "source": [
    "books = [\n",
    "    {\n",
    "        \"title\": \"The Great Gatsby\",\n",
    "        \"author\": \"F. Scott Fitzgerald\",\n",
    "        \"genre\": \"Fiction\",\n",
    "        \"rating\": 4.2\n",
    "    },\n",
    "    {\n",
    "        \"title\": \"To Kill a Mockingbird\",\n",
    "        \"author\": \"Harper Lee\",\n",
    "        \"genre\": \"Classic\",\n",
    "        \"rating\": 4.5\n",
    "    },\n",
    "    {\n",
    "        \"title\": \"1984\",\n",
    "        \"author\": \"George Orwell\",\n",
    "        \"genre\": \"Dystopian\",\n",
    "        \"rating\": 4.8\n",
    "    },\n",
    "    {\n",
    "        \"title\": \"Pride and Prejudice\",\n",
    "        \"author\": \"Jane Austen\",\n",
    "        \"genre\": \"Romance\",\n",
    "        \"rating\": 4.7\n",
    "    },\n",
    "    {\n",
    "        \"title\": \"Harry Potter and the Sorcerer's Stone\",\n",
    "        \"author\": \"J.K. Rowling\",\n",
    "        \"genre\": \"Fantasy\",\n",
    "        \"rating\": 4.9\n",
    "    },\n",
    "    {\n",
    "        \"title\": \"The Catcher in the Rye\",\n",
    "        \"author\": \"J.D. Salinger\",\n",
    "        \"genre\": \"Coming-of-age\",\n",
    "        \"rating\": 4.1\n",
    "    }\n",
    "]"
   ]
  },
  {
   "cell_type": "markdown",
   "id": "99727270",
   "metadata": {},
   "source": [
    "**1. Checking Book Ratings**\n",
    "\n",
    "Write a function check_rating(book) that takes a book dictionary and returns True if the rating is greater than 4.5, and False otherwise. Additionally, modify the function to return 'low' if the rating is less than or equal to 4.0, 'medium' if it's greater than 4.0 but less than or equal to 4.5, and 'high' if it's greater than 4.5.\n",
    "\n",
    "**2. Average Rating by Genre**\n",
    "\n",
    "Write a function average_rating_by_genre(books, genre) that accepts the list of books and a genre, and returns the average rating for that genre. If the genre does not exist in the list, return an appropriate message.\n",
    "\n",
    "**3. Books by Author**\n",
    "\n",
    "Write a function books_by_author(books, author) that accepts the book list and an author's name, and returns a list of all the books written by that author. If the author does not exist, raise a custom error."
   ]
  },
  {
   "cell_type": "code",
   "execution_count": null,
   "id": "45eab69e",
   "metadata": {},
   "outputs": [],
   "source": []
  }
 ],
 "metadata": {
  "kernelspec": {
   "display_name": "Python 3 (ipykernel)",
   "language": "python",
   "name": "python3"
  },
  "language_info": {
   "codemirror_mode": {
    "name": "ipython",
    "version": 3
   },
   "file_extension": ".py",
   "mimetype": "text/x-python",
   "name": "python",
   "nbconvert_exporter": "python",
   "pygments_lexer": "ipython3",
   "version": "3.11.5"
  }
 },
 "nbformat": 4,
 "nbformat_minor": 5
}
