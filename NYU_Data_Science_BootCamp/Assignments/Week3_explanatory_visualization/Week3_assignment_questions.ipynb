{
 "cells": [
  {
   "cell_type": "markdown",
   "id": "2d07c052",
   "metadata": {},
   "source": [
    "## Data Science Bootcamp\n",
    "### Week 3: Exploratory Data Analysis and Data Visualization\n",
    "\n",
    "- **Questions 1 - 3**: Data Science Bootcamp Week 3 Follow Up\" (receive on Fri, \n",
    "Mar 14, 5:01 PM)"
   ]
  },
  {
   "cell_type": "markdown",
   "id": "d9a399e1",
   "metadata": {},
   "source": [
    "Solve the following problems.\n",
    "\n",
    "**Part 1: manipulation of data and visualization**\n",
    "\n",
    "1.⁠ ⁠Filter the data to include only weekdays (Monday to Friday) and plot a line graph showing the pedestrian counts for each day of the week.\n",
    "\n",
    "import pandas as pd\n",
    "\n",
    "import matplotlib.pyplot as plt\n",
    "\n",
    "**Read the dataset**\n",
    "\n",
    "url = \"https://data.cityofnewyork.us/api/views/6fi9-q3ta/rows.csv?accessType=DOWNLOAD\"\n",
    "\n",
    "df = pd.read_csv(url)\n",
    "\n",
    "----- Write your code below this after running above above code-----------"
   ]
  },
  {
   "cell_type": "markdown",
   "id": "932aa7dd",
   "metadata": {},
   "source": [
    "**Part 2: converting non-numerical feature and create correlation spot**⁠.\n",
    "\n",
    "⁠Track pedestrian counts on the Brooklyn Bridge for the year 2019 and analyze how different weather conditions influence pedestrian activity in that year. Sort the pedestrian count data by weather summary to identify any correlations( with a correlation matrix) between weather patterns and pedestrian counts for the selected year.\n",
    "\n",
    "-This question requires you to show the relationship between a numerical feature(Pedestrians) and a non-numerical feature(Weather Summary). In such instances we use Encoding. Each weather condition can be encoded as numbers( 0,1,2..). This technique is called One-hot encoding.\n",
    "\n",
    "-Correlation matrices may not always be the most suitable visualization method for relationships involving categorical data points, nonetheless this was given as a question to help you understand the concept better."
   ]
  },
  {
   "cell_type": "markdown",
   "id": "0f0fe653",
   "metadata": {},
   "source": [
    "**Part 3: function implementation and apply dataset**\n",
    "\n",
    "⁠Implement a custom function to categorize time of day into morning, afternoon, evening, and night, and create a new column in the DataFrame to store these categories. Use this new column to analyze pedestrian activity patterns throughout the day.\n",
    "\n",
    "-Students can also show plots analyzing activity."
   ]
  }
 ],
 "metadata": {
  "kernelspec": {
   "display_name": "Python 3 (ipykernel)",
   "language": "python",
   "name": "python3"
  },
  "language_info": {
   "codemirror_mode": {
    "name": "ipython",
    "version": 3
   },
   "file_extension": ".py",
   "mimetype": "text/x-python",
   "name": "python",
   "nbconvert_exporter": "python",
   "pygments_lexer": "ipython3",
   "version": "3.11.5"
  }
 },
 "nbformat": 4,
 "nbformat_minor": 5
}
