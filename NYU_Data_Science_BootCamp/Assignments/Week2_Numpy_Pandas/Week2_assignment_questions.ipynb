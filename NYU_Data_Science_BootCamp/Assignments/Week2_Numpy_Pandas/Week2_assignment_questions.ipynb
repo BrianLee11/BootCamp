{
 "cells": [
  {
   "cell_type": "markdown",
   "id": "2d07c052",
   "metadata": {},
   "source": [
    "## Data Science Bootcamp\n",
    "### Week 2: Introduction to Numpy and Pandas\n",
    "\n",
    "- **Questions 1 - 2**: Based on the email with title \"Data Science Bootcamp Week 2 Follow Up\" (receive on Fri, Mar 7, 5:01 PM)"
   ]
  },
  {
   "cell_type": "markdown",
   "id": "d9a399e1",
   "metadata": {},
   "source": [
    "Solve the following problems.\n",
    "\n",
    "**Part 1 - Numpy**\n",
    "\n",
    "Use this dataset for the first 4 questions.\n",
    "\n",
    "url = 'https://archive.ics.uci.edu/ml/machine-learning-databases/iris/iris.data'\n",
    "\n",
    "iris_2d = np.genfromtxt(url, delimiter=',', dtype='float', usecols=[0,1,2,3])\n",
    "\n",
    "1.⁠ ⁠Define two custom numpy arrays, say A and B. Generate two new numpy arrays by stacking A and B vertically and horizontally.\n",
    "\n",
    "2.⁠ ⁠Find common elements between A and B. [Hint : Intersection of two sets]\n",
    "\n",
    "3.⁠ ⁠Extract all numbers from A which are within a specific range. eg between 5 and 10. [Hint: np.where() might be useful or boolean masks]\n",
    "\n",
    "4.⁠ ⁠Filter the rows of iris_2d that has petallength (3rd column) > 1.5 and sepallength (1st column) < 5.0"
   ]
  },
  {
   "cell_type": "markdown",
   "id": "932aa7dd",
   "metadata": {},
   "source": [
    "**Part 2 - Pandas**\n",
    "\n",
    "1.⁠ ⁠From df filter the 'Manufacturer', 'Model' and 'Type' for every 20th row starting from 1st (row 0).\n",
    "\n",
    "df = pd.read_csv('https://raw.githubusercontent.com/selva86/datasets/master/Cars93_miss.csv')\n",
    "\n",
    "2.⁠ ⁠Replace missing values in Min.Price and Max.Price columns with their respective mean.\n",
    "\n",
    "df = pd.read_csv('https://raw.githubusercontent.com/selva86/datasets/master/Cars93_miss.csv')\n",
    "\n",
    "3.⁠ ⁠How to get the rows of a dataframe with row sum > 100?\n",
    "\n",
    "df = pd.DataFrame(np.random.randint(10, 40, 60).reshape(-1, 4))"
   ]
  }
 ],
 "metadata": {
  "kernelspec": {
   "display_name": "Python 3 (ipykernel)",
   "language": "python",
   "name": "python3"
  },
  "language_info": {
   "codemirror_mode": {
    "name": "ipython",
    "version": 3
   },
   "file_extension": ".py",
   "mimetype": "text/x-python",
   "name": "python",
   "nbconvert_exporter": "python",
   "pygments_lexer": "ipython3",
   "version": "3.11.5"
  }
 },
 "nbformat": 4,
 "nbformat_minor": 5
}
