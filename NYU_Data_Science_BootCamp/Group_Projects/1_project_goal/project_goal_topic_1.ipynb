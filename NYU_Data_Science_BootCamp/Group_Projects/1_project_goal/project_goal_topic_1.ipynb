{
 "cells": [
  {
   "cell_type": "markdown",
   "id": "5df2334d",
   "metadata": {},
   "source": [
    "**Data Science BootCamp Topic 1**\n",
    "\n",
    "**Spring 2025**"
   ]
  },
  {
   "cell_type": "markdown",
   "id": "77174eb9f214a733",
   "metadata": {},
   "source": [
    "# 1. Data Visualization with Air Quality Data"
   ]
  },
  {
   "cell_type": "markdown",
   "id": "f1e085c4ea563f2f",
   "metadata": {},
   "source": [
    "**Dataset** Air Quality in India (Kaggle)\n",
    "\n",
    "https://www.kaggle.com/datasets/shrutibhargava94/india-air-quality-data/data\n",
    "\n",
    "This project is intended to explore India's air pollution levels over the years using the provided dataset. The dataset represents a combined and cleaned version of the Historical Daily Ambient Air Quality Data."
   ]
  },
  {
   "cell_type": "markdown",
   "id": "180de243",
   "metadata": {},
   "source": [
    "**Problem Statement:**\n",
    "\n",
    "The primary goal of this project is to analyze India's air pollution data and derive meaningful insights. Identify local trends in air quality, examine the correlation between air quality changes and shifts in environmental policies in India, and explore factors influencing air pollution levels.\n"
   ]
  },
  {
   "cell_type": "markdown",
   "id": "d4633a9a",
   "metadata": {},
   "source": [
    "# Tasks\n",
    "\n",
    "## 1. Dataset Exploration\n",
    "- Explore the dataset to understand its structure and features.\n",
    "- Identify key pollutants and their variations over the years.\n",
    "\n",
    "## 2. Temporal Analysis\n",
    "- Analyze air quality trends over the years.\n",
    "- Identify any seasonal patterns or significant changes.\n",
    "\n",
    "## 3. Regional Trends\n",
    "- Investigate regional variations in air quality.\n",
    "- Explore differences in pollution levels between states and cities.\n",
    "- Create visualizations to illustrate trends, patterns, and regional variations in air quality.\n",
    "\n",
    "## 4. Predictive Modeling\n",
    "- If feasible, build predictive models for air quality based on historical data.\n",
    "- Evaluate model performance and explore its potential applications."
   ]
  },
  {
   "cell_type": "markdown",
   "id": "03ad5e2e",
   "metadata": {},
   "source": [
    "Students are encouraged to draw connections between data-driven insights and potential policy implications. The project should foster a deeper understanding of the dynamics of air quality in India and its impact on public health and the environment."
   ]
  },
  {
   "cell_type": "markdown",
   "id": "8a24df84",
   "metadata": {},
   "source": [
    "# Suggested Timeline\n",
    "\n",
    "## Week 1: Project Introduction & Dataset Exploration\n",
    "- Form teams (4-5 students).\n",
    "- Introduce the project, objectives, and air quality dataset.\n",
    "- Acquire and explore the dataset.\n",
    "\n",
    "## Week 2: Feature Exploration\n",
    "- Perform data manipulation using NumPy and Pandas.\n",
    "- Explore key features in the dataset.\n",
    "\n",
    "## Weeks 3-4: Exploratory Data Analysis (EDA) & Visualization\n",
    "- Conduct data manipulation using NumPy and Pandas.\n",
    "- Explore EDA and visualization techniques.\n",
    "- Select relevant features and formulate the problem statement.\n",
    "\n",
    "## Week 5: Mid-Program Presentation\n",
    "- Present progress achieved up to the EDA stage.\n",
    "- Receive feedback and suggestions for further analysis.\n",
    "\n",
    "## Week 6: Initial Modeling\n",
    "- Experiment with different machine learning models.\n",
    "- Train the initial model and evaluate its performance.\n",
    "\n",
    "## Week 7: Hypothesis Testing\n",
    "- Formulate hypotheses related to factors influencing air quality.\n",
    "- Conduct hypothesis testing and statistical analysis.\n",
    "\n",
    "## Week 8: Final Model Training & Interpretation\n",
    "- Train the final predictive models, incorporating insights from previous analysis.\n",
    "- Interpret results and summarize key insights.\n",
    "\n",
    "## Week 9: Final Presentation\n",
    "- Present methodology, results, and key insights."
   ]
  }
 ],
 "metadata": {
  "kernelspec": {
   "display_name": "Python 3 (ipykernel)",
   "language": "python",
   "name": "python3"
  },
  "language_info": {
   "codemirror_mode": {
    "name": "ipython",
    "version": 3
   },
   "file_extension": ".py",
   "mimetype": "text/x-python",
   "name": "python",
   "nbconvert_exporter": "python",
   "pygments_lexer": "ipython3",
   "version": "3.11.5"
  }
 },
 "nbformat": 4,
 "nbformat_minor": 5
}
