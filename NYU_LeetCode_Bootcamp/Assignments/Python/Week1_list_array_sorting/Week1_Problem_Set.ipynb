{
 "cells": [
  {
   "cell_type": "code",
   "execution_count": null,
   "id": "initial_id",
   "metadata": {
    "collapsed": true
   },
   "outputs": [],
   "source": [
    "# Week 1:\n",
    "# 217. Contains Duplicate (difficulty: easy)\n",
    "# 1024. Video Stitching (difficulty: medium)\n",
    "# 11. Container With Most Water (difficulty: medium)"
   ]
  },
  {
   "metadata": {},
   "cell_type": "code",
   "outputs": [],
   "execution_count": null,
   "source": [
    "# Problem 1: Contains Duplicate\n",
    "# url: https://leetcode.com/problems/contains-duplicate/description/\n",
    "# Description: Given an integer array nums,\n",
    "# return true if any value appears at least twice in the array,\n",
    "# and return false if every element is distinct.\n",
    "\n",
    "# Example 1:\n",
    "# Input: nums = [1,2,3,1]\n",
    "# Output: true\n",
    "\n",
    "# Example 2:\n",
    "# Input: nums = [1,2,3,4]\n",
    "# Output: false\n",
    "\n",
    "# Example 3:\n",
    "# Input: nums = [1,1,1,3,3,4,3,2,4,2]\n",
    "# Output: true"
   ],
   "id": "36bac458745f7c69"
  },
  {
   "metadata": {},
   "cell_type": "code",
   "outputs": [],
   "execution_count": null,
   "source": [
    "\"\"\" Problem 2: Video Stitching\n",
    "You are given a series of video clips from a sporting event that lasted time seconds.\n",
    "These video clips can be overlapping with each other and have varying lengths.\n",
    "\n",
    "Each video clip is described by an array clips where clips[i] = [starti, endi]\n",
    "indicates that the ith clip started at starti and ended at endi.\n",
    "\n",
    "We can cut these clips into segments freely.\n",
    "\n",
    "For example, a clip [0, 7] can be cut into segments [0, 1] + [1, 3] + [3, 7].\n",
    "Return the minimum number of clips needed\n",
    "so that we can cut the clips into segments\n",
    "that cover the entire sporting event [0, time].\n",
    "\n",
    "If the task is impossible, return -1.\n",
    "\n",
    "Example 1:\n",
    "\n",
    "Input: clips = [[0,2],[4,6],[8,10],[1,9],[1,5],[5,9]], time = 10\n",
    "Output: 3\n",
    "Explanation: We take the clips [0,2], [8,10], [1,9]; a total of 3 clips.\n",
    "Then, we can reconstruct the sporting event as follows:\n",
    "We cut [1,9] into segments [1,2] + [2,8] + [8,9].\n",
    "Now we have segments [0,2] + [2,8] + [8,10] which cover the sporting event [0, 10].\n",
    "Example 2:\n",
    "\n",
    "Input: clips = [[0,1],[1,2]], time = 5\n",
    "Output: -1\n",
    "Explanation: We cannot cover [0,5] with only [0,1] and [1,2].\n",
    "Example 3:\n",
    "\n",
    "Input: clips = [[0,1],[6,8],[0,2],[5,6],[0,4],[0,3],[6,7],[1,3],[4,7],[1,4],[2,5],[2,6],[3,4],[4,5],[5,7],[6,9]], time = 9\n",
    "Output: 3\n",
    "Explanation: We can take clips [0,4], [4,7], and [6,9].\n",
    "\n",
    "\n",
    "\"\"\""
   ],
   "id": "510897cf737d8efe"
  }
 ],
 "metadata": {
  "kernelspec": {
   "display_name": "Python 3",
   "language": "python",
   "name": "python3"
  },
  "language_info": {
   "codemirror_mode": {
    "name": "ipython",
    "version": 2
   },
   "file_extension": ".py",
   "mimetype": "text/x-python",
   "name": "python",
   "nbconvert_exporter": "python",
   "pygments_lexer": "ipython2",
   "version": "2.7.6"
  }
 },
 "nbformat": 4,
 "nbformat_minor": 5
}
