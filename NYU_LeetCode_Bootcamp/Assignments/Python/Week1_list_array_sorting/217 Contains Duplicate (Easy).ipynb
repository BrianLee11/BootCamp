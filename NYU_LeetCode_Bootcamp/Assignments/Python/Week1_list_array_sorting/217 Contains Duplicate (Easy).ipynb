{
 "cells": [
  {
   "metadata": {},
   "cell_type": "code",
   "outputs": [],
   "execution_count": null,
   "source": [
    "\"\"\"\n",
    "217. Contains Duplicate\n",
    "    Description: Given an integer array nums, return true if any value appears at least twice in the array, and return false if every element is distinct.\n",
    "    url: https://leetcode.com/problems/contains-duplicate/description/\n",
    "\n",
    "Example 1:\n",
    "    Input: nums = [1,2,3,1]\n",
    "    Output: true\n",
    "    Explanation: The element 1 occurs at the indices 0 and 3.\n",
    "\n",
    "Example 2:\n",
    "    Input: nums = [1,2,3,4]\n",
    "    Output: false\n",
    "    Explanation: All elements are distinct.\n",
    "\n",
    "Example 3:\n",
    "    Input: nums = [1,1,1,3,3,4,3,2,4,2]\n",
    "    Output: true\n",
    "\"\"\""
   ],
   "id": "c7116e41a806c771"
  },
  {
   "metadata": {
    "collapsed": true,
    "ExecuteTime": {
     "end_time": "2025-05-25T23:22:14.209389Z",
     "start_time": "2025-05-25T23:22:14.204748Z"
    }
   },
   "cell_type": "code",
   "outputs": [],
   "execution_count": 1,
   "source": [
    "class Solution(object):\n",
    "    def containsDuplicate(self, nums):\n",
    "        \"\"\"\n",
    "        :type nums: List[int]\n",
    "        :rtype: bool\n",
    "        \"\"\"\n",
    "\n",
    "        \"\"\"\n",
    "        Idea:\n",
    "        1. Create a set — a data structure that does not allow duplicate elements. Let's call this set \"my_set\".\n",
    "            - Time complexity: O(1), since initializing an empty set takes constant time.\n",
    "            - Space complexity: O(1), for the initial empty set.\n",
    "\n",
    "        2. For each element in the given list 'nums', check whether it already exists in \"my_set\":\n",
    "            - Time complexity: O(1), since set membership check is on average O(1).\n",
    "            - Space complexity: O(1), per operation.\n",
    "            - If the element is already in the set, return True (a duplicate is found).\n",
    "            - If the element is not in the set, add it to the set for future tracking:\n",
    "                - Time complexity: O(1), since adding to a set is O(1) on average.\n",
    "                - Space complexity: O(1), per addition.\n",
    "\n",
    "        3. Repeat step 2 for all elements in 'nums':\n",
    "            - Time complexity: O(n), because we perform O(1) operations for each of the n elements.\n",
    "            - Space complexity: O(n), since in the worst case (no duplicates), the set stores all n elements.\n",
    "\n",
    "        4. If the loop finishes without returning True, it means no duplicates were found, so return False:\n",
    "            - Time complexity: O(1)\n",
    "            - Space complexity: O(1)\n",
    "\n",
    "        Overall time complexity: O(n) — each of the n elements is processed in O(1) time.\n",
    "        Overall space complexity: O(n) — in the worst case, all elements are stored in the set.\n",
    "        \"\"\"\n",
    "\n",
    "        # Data structure: set, since it efficiently checks and stores unique elements.\n",
    "        my_set = set()  # Initialize an empty set.\n",
    "\n",
    "        for number in nums:         # Iterate over each element in the list.\n",
    "            if number in my_set:    # Check if this number was seen before.\n",
    "                return True         # Duplicate found. Return True.\n",
    "            else:                   # First time seeing this number.\n",
    "                my_set.add(number)  # Add it to the set.\n",
    "\n",
    "        return False                # All elements processed with no duplicates found. Return False.\n",
    "\n",
    "\n",
    "        \"\"\"\n",
    "        For further study.\n",
    "        1. searching in a set is O(1). Why is this so? Hint: set uses 'hashing'\n",
    "        2. compare searching in a list vs searching in a set.\n",
    "            - A list: checking every book one by one (linear search)\n",
    "            - A set: going straight to the exact shelf based on a catalog system (hashing)\n",
    "        \"\"\"\n"
   ],
   "id": "initial_id"
  },
  {
   "metadata": {
    "ExecuteTime": {
     "end_time": "2025-05-25T23:24:47.651165Z",
     "start_time": "2025-05-25T23:24:47.647351Z"
    }
   },
   "cell_type": "code",
   "source": [
    "# testing\n",
    "solution = Solution()\n",
    "\n",
    "nums1 = [1,2,3,1]\n",
    "print(solution.containsDuplicate(nums1)) # True\n",
    "\n",
    "nums2 = [1,2,3,4]\n",
    "print(solution.containsDuplicate(nums2))\n",
    "\n",
    "nums3 = [1,1,1,3,3,4,3,2,4,2]\n",
    "print(solution.containsDuplicate(nums3))"
   ],
   "id": "62f9fc238de9ce68",
   "outputs": [
    {
     "name": "stdout",
     "output_type": "stream",
     "text": [
      "True\n",
      "False\n",
      "True\n"
     ]
    }
   ],
   "execution_count": 3
  }
 ],
 "metadata": {
  "kernelspec": {
   "display_name": "Python 3",
   "language": "python",
   "name": "python3"
  },
  "language_info": {
   "codemirror_mode": {
    "name": "ipython",
    "version": 2
   },
   "file_extension": ".py",
   "mimetype": "text/x-python",
   "name": "python",
   "nbconvert_exporter": "python",
   "pygments_lexer": "ipython2",
   "version": "2.7.6"
  }
 },
 "nbformat": 4,
 "nbformat_minor": 5
}
