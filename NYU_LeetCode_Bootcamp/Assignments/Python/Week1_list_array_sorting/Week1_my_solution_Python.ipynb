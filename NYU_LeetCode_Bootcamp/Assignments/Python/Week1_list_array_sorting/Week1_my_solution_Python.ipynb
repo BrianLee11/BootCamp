{
 "cells": [
  {
   "cell_type": "code",
   "execution_count": null,
   "id": "initial_id",
   "metadata": {
    "collapsed": true
   },
   "outputs": [],
   "source": "# Problem 1: containsDuplicate"
  },
  {
   "metadata": {
    "ExecuteTime": {
     "end_time": "2025-03-31T15:43:54.126900Z",
     "start_time": "2025-03-31T15:43:54.122901Z"
    }
   },
   "cell_type": "code",
   "source": [
    "import math\n",
    "\n",
    "\n",
    "class Solution(object):\n",
    "    def containsDuplicate(self, nums):\n",
    "        my_set = set()\n",
    "\n",
    "        for num in nums:\n",
    "            if num in my_set:\n",
    "                return True\n",
    "            else:\n",
    "                my_set.add(num)\n",
    "\n",
    "        return False"
   ],
   "id": "b7c3e5767a36c4b6",
   "outputs": [],
   "execution_count": 11
  },
  {
   "metadata": {
    "ExecuteTime": {
     "end_time": "2025-03-31T15:43:55.830602Z",
     "start_time": "2025-03-31T15:43:55.827176Z"
    }
   },
   "cell_type": "code",
   "source": [
    "# testing containsDuplicate\n",
    "solution = Solution()"
   ],
   "id": "1f8527f3261466bc",
   "outputs": [],
   "execution_count": 12
  },
  {
   "metadata": {
    "ExecuteTime": {
     "end_time": "2025-03-31T15:43:56.162384Z",
     "start_time": "2025-03-31T15:43:56.158430Z"
    }
   },
   "cell_type": "code",
   "source": [
    "nums_1 = [1, 2, 3, 1]\n",
    "print(solution.containsDuplicate(nums_1)) # should be true"
   ],
   "id": "b526d374bb2d8a1f",
   "outputs": [
    {
     "name": "stdout",
     "output_type": "stream",
     "text": [
      "True\n"
     ]
    }
   ],
   "execution_count": 13
  },
  {
   "metadata": {
    "ExecuteTime": {
     "end_time": "2025-03-31T15:44:02.478022Z",
     "start_time": "2025-03-31T15:44:02.474511Z"
    }
   },
   "cell_type": "code",
   "source": [
    "nums_2 = [1,2,3,4]\n",
    "print(solution.containsDuplicate(nums_2)) # should be false"
   ],
   "id": "deeb18613d315522",
   "outputs": [
    {
     "name": "stdout",
     "output_type": "stream",
     "text": [
      "False\n"
     ]
    }
   ],
   "execution_count": 14
  },
  {
   "metadata": {
    "ExecuteTime": {
     "end_time": "2025-03-31T15:44:07.817930Z",
     "start_time": "2025-03-31T15:44:07.814222Z"
    }
   },
   "cell_type": "code",
   "source": [
    "nums_3 = [1,1,1,3,3,4,3,2,4,2]\n",
    "print(solution.containsDuplicate(nums_3)) # should be true"
   ],
   "id": "be584bcb4d22eb42",
   "outputs": [
    {
     "name": "stdout",
     "output_type": "stream",
     "text": [
      "True\n"
     ]
    }
   ],
   "execution_count": 15
  },
  {
   "metadata": {},
   "cell_type": "code",
   "outputs": [],
   "execution_count": null,
   "source": [
    "# Question 2: video\n",
    "# https://leetcode.com/problems/video-stitching/description/"
   ],
   "id": "737b545cd6233555"
  },
  {
   "metadata": {},
   "cell_type": "code",
   "outputs": [],
   "execution_count": null,
   "source": [
    "class Solution(object):\n",
    "    def videoStitching(self, clips, time):\n",
    "        \"\"\"\n",
    "        :type clips: List[List[int]]\n",
    "        :type time: int\n",
    "        :rtype: int\n",
    "        \"\"\"\n"
   ],
   "id": "93c11bba354f6834"
  },
  {
   "metadata": {
    "ExecuteTime": {
     "end_time": "2025-03-31T20:32:49.505632Z",
     "start_time": "2025-03-31T20:32:49.500512Z"
    }
   },
   "cell_type": "code",
   "source": [
    "clips = [[0,2],[4,6],[8,10],[1,9],[1,5],[5,9]]\n",
    "time = 10"
   ],
   "id": "a209cd7c14cbe9c8",
   "outputs": [],
   "execution_count": 16
  },
  {
   "metadata": {
    "ExecuteTime": {
     "end_time": "2025-03-31T21:04:34.395913Z",
     "start_time": "2025-03-31T21:04:34.393495Z"
    }
   },
   "cell_type": "code",
   "source": "import math",
   "id": "aebdad70e18ffeac",
   "outputs": [],
   "execution_count": 21
  },
  {
   "metadata": {
    "ExecuteTime": {
     "end_time": "2025-03-31T22:13:08.239764Z",
     "start_time": "2025-03-31T22:13:08.236006Z"
    }
   },
   "cell_type": "code",
   "source": [
    "start = 0\n",
    "end = time\n",
    "temp_clip = None\n",
    "temp_clip_length = -1\n",
    "next_target_clips = []\n",
    "clip_container = []"
   ],
   "id": "af26f76673066bb7",
   "outputs": [],
   "execution_count": 30
  },
  {
   "metadata": {
    "ExecuteTime": {
     "end_time": "2025-03-31T22:13:09.625184Z",
     "start_time": "2025-03-31T22:13:09.621803Z"
    }
   },
   "cell_type": "code",
   "source": [
    "\n",
    "def engine(clips, start, end):\n",
    "    temp_clip = None\n",
    "    \n",
    "\n",
    "    for clip in clips:\n",
    "        clip_begin = clip[0]\n",
    "        clip_end = clip[1]\n",
    "        if (clip_begin < start) or (end < clip_end):\n",
    "            pass # drop this clip. Not relevant\n",
    "        else:\n",
    "           if (clip_begin <= start <= clip_end):\n",
    "               this_clip_length = clip_end - start\n",
    "               if this_clip_length > temp_clip_length:\n",
    "                   # update\n",
    "                    temp_clip_length = this_clip_length\n",
    "           else:\n",
    "               next_target_clips.append(clip)\n",
    "\n",
    "    return\n",
    "\n",
    "# let's test up to this stage!"
   ],
   "id": "d289843f60771c6",
   "outputs": [],
   "execution_count": 31
  },
  {
   "metadata": {},
   "cell_type": "code",
   "outputs": [],
   "execution_count": null,
   "source": "",
   "id": "952a2ddd5a492d4f"
  },
  {
   "metadata": {
    "ExecuteTime": {
     "end_time": "2025-03-31T22:13:11.290886Z",
     "start_time": "2025-03-31T22:13:11.287367Z"
    }
   },
   "cell_type": "code",
   "source": [
    "\"\"\"\n",
    "start = 0\n",
    "end = time\n",
    "temp_clip = None\n",
    "temp_clip_length = -math.inf\n",
    "next_target_clips = []\n",
    "clip_container = []\n",
    "\"\"\"\n",
    "print(temp_clip_length)\n",
    "print(next_target_clips)"
   ],
   "id": "8f44dca7cde88de6",
   "outputs": [
    {
     "name": "stdout",
     "output_type": "stream",
     "text": [
      "2\n",
      "[[4, 6], [8, 10], [1, 9], [1, 5], [5, 9]]\n"
     ]
    }
   ],
   "execution_count": 32
  },
  {
   "metadata": {},
   "cell_type": "code",
   "outputs": [],
   "execution_count": null,
   "source": "",
   "id": "bc24440b90551f2f"
  }
 ],
 "metadata": {
  "kernelspec": {
   "display_name": "Python 3",
   "language": "python",
   "name": "python3"
  },
  "language_info": {
   "codemirror_mode": {
    "name": "ipython",
    "version": 2
   },
   "file_extension": ".py",
   "mimetype": "text/x-python",
   "name": "python",
   "nbconvert_exporter": "python",
   "pygments_lexer": "ipython2",
   "version": "2.7.6"
  }
 },
 "nbformat": 4,
 "nbformat_minor": 5
}
