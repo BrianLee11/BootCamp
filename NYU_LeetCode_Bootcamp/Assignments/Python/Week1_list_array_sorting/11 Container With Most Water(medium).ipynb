{
 "cells": [
  {
   "metadata": {},
   "cell_type": "code",
   "outputs": [],
   "execution_count": null,
   "source": [
    "\"\"\"\n",
    "11. Container With Most Water\n",
    "url: https://leetcode.com/problems/container-with-most-water/description/\n",
    "\n",
    "You are given an integer array height of length n.\n",
    "There are n vertical lines drawn such that the two endpoints of the ith line are (i, 0) and (i, height[i]).\n",
    "\n",
    "Find two lines that together with the x-axis form a container, such that the container contains the most water.\n",
    "Return the maximum amount of water a container can store.\n",
    "Notice that you may not slant the container.\n",
    "\n",
    "Example 1:\n",
    "Input: height = [1,8,6,2,5,4,8,3,7]\n",
    "Output: 49\n",
    "Explanation: The above vertical lines are represented by array [1,8,6,2,5,4,8,3,7].\n",
    "In this case, the max area of water (blue section) the container can contain is 49.\n",
    "\n",
    "Example 2:\n",
    "Input: height = [1,1]\n",
    "Output: 1\n",
    "\"\"\""
   ],
   "id": "4f20244c0767aaff"
  },
  {
   "metadata": {
    "collapsed": true,
    "ExecuteTime": {
     "end_time": "2025-05-26T01:19:50.582695Z",
     "start_time": "2025-05-26T01:19:50.578678Z"
    }
   },
   "cell_type": "code",
   "outputs": [],
   "execution_count": 8,
   "source": [
    "class Solution(object):\n",
    "    def maxArea(self, height):\n",
    "        \"\"\"\n",
    "        :type height: List[int]\n",
    "        :rtype: int\n",
    "        \"\"\"\n",
    "\n",
    "        \"\"\"\n",
    "        Keywords: greedy algorithm, two pointers\n",
    "        Idea\n",
    "        1. Initialize two pointers\n",
    "            - left = 0 as index                   (time complexity: O(1), space complexity: O(1))\n",
    "            - right = len(height) - 1 as index    (time complexity: O(1), space complexity: O(1))\n",
    "\n",
    "        2. currentArea = minimum of (height[left], height[right]) * right\n",
    "            minimum of (height[left], height[right]): (time complexity: O(1), space complexity: O(1))\n",
    "            total time complexity: O(1), space complexity: O(1)\n",
    "\n",
    "        3. while (left < right): time complexity: O(n), space complexity: O(1)\n",
    "            - height[left] <= height[right]: time complexity: O(1), space complexity: O(1)\n",
    "            - left += 1: time complexity: O(1), space complexity: O(1)\n",
    "            - same applies for height[left] > height[right]\n",
    "            The overall time complexity: O(n), space complexity: O(1)\n",
    "\n",
    "        4. The overall\n",
    "            - time complexity = O(1) + O(1) + O(1) + O(n) = O(n)\n",
    "            - space complexity = O(1) + O(1) + O(1) + O(n) = O(1)\n",
    "        \"\"\"\n",
    "\n",
    "        left = 0                                                         # left pointer\n",
    "        right = len(height) - 1                                          # right pointer\n",
    "        currentArea = min(height[left], height[right]) * (right - left)  # initial area\n",
    "\n",
    "        while (left < right):                                            # continue until left pointer is left of righter\n",
    "            if height[left] <= height[right]:                            # condition to improve the current area\n",
    "                left += 1                                                # if height[left] <= height[right], move lefter to 1 unit right\n",
    "            else:\n",
    "                right -= 1                                               # otherwise, move righter to 1 unit left\n",
    "\n",
    "            # update the area\n",
    "            currentArea = max(currentArea, min(height[left], height[right]) * (right - left))\n",
    "\n",
    "        return currentArea"
   ],
   "id": "initial_id"
  },
  {
   "metadata": {
    "ExecuteTime": {
     "end_time": "2025-05-26T01:19:52.069642Z",
     "start_time": "2025-05-26T01:19:52.065747Z"
    }
   },
   "cell_type": "code",
   "source": [
    "# testing\n",
    "height = [1,8,6,2,5,4,8,3,7]\n",
    "\n",
    "solution = Solution()\n",
    "print(solution.maxArea(height)) # 49\n",
    "\n",
    "height = [1,1]\n",
    "print(solution.maxArea(height)) # 1"
   ],
   "id": "1804388a4b7aeca5",
   "outputs": [
    {
     "name": "stdout",
     "output_type": "stream",
     "text": [
      "49\n",
      "1\n"
     ]
    }
   ],
   "execution_count": 9
  }
 ],
 "metadata": {
  "kernelspec": {
   "display_name": "Python 3",
   "language": "python",
   "name": "python3"
  },
  "language_info": {
   "codemirror_mode": {
    "name": "ipython",
    "version": 2
   },
   "file_extension": ".py",
   "mimetype": "text/x-python",
   "name": "python",
   "nbconvert_exporter": "python",
   "pygments_lexer": "ipython2",
   "version": "2.7.6"
  }
 },
 "nbformat": 4,
 "nbformat_minor": 5
}
